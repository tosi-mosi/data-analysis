{
 "cells": [
  {
   "cell_type": "code",
   "execution_count": 1,
   "id": "d335d034",
   "metadata": {},
   "outputs": [],
   "source": [
    "import numpy as np\n",
    "import random\n",
    "%matplotlib inline\n",
    "import matplotlib.pyplot as plt\n",
    "from functools import reduce\n",
    "from math import exp\n",
    "# make tests reproducible\n",
    "random.seed(1)"
   ]
  },
  {
   "cell_type": "code",
   "execution_count": 2,
   "id": "480a9ebb",
   "metadata": {},
   "outputs": [
    {
     "name": "stdout",
     "output_type": "stream",
     "text": [
      "approximated coeffs: b = -1.2137722544017073, a = -19.052508994195474\n"
     ]
    },
    {
     "data": {
      "text/plain": [
       "[<matplotlib.lines.Line2D at 0x7f7cc618dc70>]"
      ]
     },
     "execution_count": 2,
     "metadata": {},
     "output_type": "execute_result"
    },
    {
     "data": {
      "image/png": "[encoded data removed]",
      "text/plain": [
       "<Figure size 432x288 with 1 Axes>"
      ]
     },
     "metadata": {
      "needs_background": "light"
     },
     "output_type": "display_data"
    }
   ],
   "source": [
    "a, b = -20, 10\n",
    "\n",
    "alpha = 0.0005   # learning rate\n",
    "epsilon = 0.005 # for stop criteria\n",
    "\n",
    "\n",
    "num_points = 50\n",
    "noise = np.random.normal(0, 50, num_points)\n",
    "x = np.random.uniform(0, 20, num_points)\n",
    "y = a*x + b + noise\n",
    "\n",
    "def grad(x, y):\n",
    "    def eval_coord1(x, y):\n",
    "        return o[1]*x + o[0] - y\n",
    "\n",
    "    def eval_coord2(x, y):\n",
    "        return o[1]*x**2 + o[0]*x - x*y\n",
    "    \n",
    "    return 1/len(x) * np.array([sum(map(eval_coord1, x, y)), sum(map(eval_coord2, x, y))])\n",
    "\n",
    "starting_point = (0, 0)\n",
    "o = starting_point\n",
    "while(True):\n",
    "    tmp = grad(x, y)\n",
    "    change = alpha * tmp\n",
    "    #print(change[0]**2 + change[1]**2, epsilon)\n",
    "    o = o - change\n",
    "    if((change[0]**2 + change[1]**2)**(1/2) <= epsilon):\n",
    "        break\n",
    "print(f'approximated coeffs: b = {o[0]}, a = {o[1]}')\n",
    "\n",
    "plt.scatter(x, y, c=\"g\", alpha=0.5, marker=r'$\\clubsuit$',\n",
    "            label=\"Luck\")\n",
    "plt.plot(x, o[1]*x + o[0], color='red')"
   ]
  },
  {
   "cell_type": "code",
   "execution_count": 3,
   "id": "56611600",
   "metadata": {},
   "outputs": [],
   "source": [
    "class1 = np.random.multivariate_normal(\n",
    "    mean=[2,5],\n",
    "    cov=[[3, 0],[0, 3]],\n",
    "    size=200\n",
    ")\n",
    "class2 = np.random.multivariate_normal(\n",
    "    mean=[7,10],\n",
    "    cov=[[3, 0],[0, 3]],\n",
    "    size=200\n",
    ")\n",
    "\n",
    "# print(len(np.append(class1, class2, axis=0)))\n",
    "classes_w_labels = (np.append(class1[:100], class2[:100], axis=0), 100*[0] + 100*[1])\n",
    "# print(classes_w_labels[:10])\n",
    "\n",
    "classes_w_labels_test = (np.append(class1[100:], class2[100:], axis=0), 100*[0] + 100*[1])"
   ]
  },
  {
   "cell_type": "code",
   "execution_count": 4,
   "id": "d6c4afc0",
   "metadata": {},
   "outputs": [],
   "source": [
    "# alpha = 0.005   # learning rate\n",
    "# epsilon = 0.0005 # for stop criteria\n",
    "\n",
    "# def grad(x, y):\n",
    "#     def exp_expr(x):\n",
    "#         return exp(o[0]+o[1]*x[0]+o[2]*x[1])\n",
    "    \n",
    "#     def rev_exp_expr(x):\n",
    "#         return 1/(1 + exp_expr(x))\n",
    "    \n",
    "#     def eval_coord1(x, y):\n",
    "# #         res = (2*y - 1) / (1 + exp_expr(x))\n",
    "#         res = (y*(rev_exp_expr(x) - 1) + (y-1)*rev_exp_expr(x))\n",
    "#         return res\n",
    "\n",
    "#     def eval_coord2(x, y):\n",
    "# #         res = x[0]*(2*y - 1) / (1 + exp_expr(x))\n",
    "#         res = x[0]*(y*(rev_exp_expr(x) - 1) + (y-1)*rev_exp_expr(x))\n",
    "#         return res\n",
    "    \n",
    "#     def eval_coord3(x, y):\n",
    "# #         res = x[1]*(2*y - 1) / (1 + exp_expr(x))\n",
    "#         res = x[1]*(y*(rev_exp_expr(x) - 1) + (y-1)*rev_exp_expr(x))\n",
    "#         return res\n",
    "    \n",
    "#     #print(sum(map(eval_coord1, x, y)))\n",
    "#     return -1/len(x) * np.array(\n",
    "#         [sum(map(eval_coord1, x, y)),\n",
    "#          sum(map(eval_coord2, x, y)),\n",
    "#          sum(map(eval_coord3, x, y))]\n",
    "#     )\n",
    "\n",
    "# # print(classes_w_labels)\n",
    "\n",
    "# o = (10,1,1)\n",
    "# for i in range(5000):\n",
    "# # while(True):\n",
    "#     #print(classes_w_labels)\n",
    "#     tmp = grad(*classes_w_labels)\n",
    "#     change = alpha * tmp\n",
    "#     o = o - change\n",
    "#     print((change[0]**2 + change[1]**2 + change[2]**2)**(1/2))\n",
    "# #     if((change[0]**2 + change[1]**2 + change[2]**2)**(1/2) <= epsilon):\n",
    "# #         break\n",
    "# print(f'approximated coeffs: o0 = {o[0]}, o1 = {o[1]}, o2 = {o[2]}')\n"
   ]
  },
  {
   "cell_type": "code",
   "execution_count": 5,
   "id": "7ad35de7",
   "metadata": {},
   "outputs": [
    {
     "name": "stdout",
     "output_type": "stream",
     "text": [
      "approximated coeffs: o0 = 9.79539354681092, o1 = -0.4727898263688253, o2 = -1.0446769940255276\n"
     ]
    }
   ],
   "source": [
    "alpha = 0.005   # learning rate\n",
    "epsilon = 0.0005 # for stop criteria\n",
    "# bad values:\n",
    "# alpha = 0.0005   # learning rate\n",
    "# epsilon = 0.005 # for stop criteria\n",
    "\n",
    "# ????\n",
    "def grad(Xs, Y):\n",
    "    def sigmoid(x):\n",
    "        return 1/(1 + exp(x))\n",
    "    \n",
    "    x1 = np.array(Xs[:len(Xs)//2])\n",
    "    x2 = np.array(Xs[len(Xs)//2:])\n",
    "    X = np.array(Xs)\n",
    "    P0 = np.array([sigmoid(o[0]+o[1]*x[0]+o[2]*x[1]) for x in x1])\n",
    "    P1 = np.array([sigmoid(o[0]+o[1]*x[0]+o[2]*x[1]) for x in x2])\n",
    "    P = np.concatenate((P0, P1-1), axis=0)\n",
    "    \n",
    "    m = len(Xs)\n",
    "    r = np.array([0., 0., 0.])\n",
    "    r[0] = -np.sum(P)/m\n",
    "    r[1] = -np.dot(X[:,0], P)/m\n",
    "    r[2] = -np.dot(X[:,1], P)/m\n",
    "    \n",
    "    return r\n",
    "\n",
    "starting_point = (10,1,1)\n",
    "o = starting_point\n",
    "while(True):\n",
    "    tmp = grad(*classes_w_labels)\n",
    "    change = alpha * tmp\n",
    "    o = o - change\n",
    "#     print((change[0]**2 + change[1]**2 + change[2]**2)**(1/2))\n",
    "    if((change[0]**2 + change[1]**2 + change[2]**2)**(1/2) <= epsilon):\n",
    "        break\n",
    "\n",
    "print(f'approximated coeffs: o0 = {o[0]}, o1 = {o[1]}, o2 = {o[2]}')\n",
    "\n"
   ]
  },
  {
   "cell_type": "code",
   "execution_count": 6,
   "id": "265b8c93",
   "metadata": {},
   "outputs": [
    {
     "data": {
      "text/plain": [
       "[<matplotlib.lines.Line2D at 0x7f7cc60ae910>]"
      ]
     },
     "execution_count": 6,
     "metadata": {},
     "output_type": "execute_result"
    },
    {
     "data": {
      "image/png": "[encoded data removed]",
      "text/plain": [
       "<Figure size 432x288 with 1 Axes>"
      ]
     },
     "metadata": {
      "needs_background": "light"
     },
     "output_type": "display_data"
    }
   ],
   "source": [
    "plt.scatter(class1[:, 0], class1[:, 1])\n",
    "plt.scatter(class2[:, 0], class2[:, 1])\n",
    "x_plot = np.linspace(-13, 13, 50)\n",
    "\n",
    "hypo_func = lambda x: o[1]/-o[2]*x + o[0]/-o[2]\n",
    "plt.plot(x_plot, list(map(hypo_func, x_plot)), color='red')"
   ]
  },
  {
   "cell_type": "code",
   "execution_count": 7,
   "id": "39ba90f7",
   "metadata": {},
   "outputs": [
    {
     "name": "stdout",
     "output_type": "stream",
     "text": [
      "accuracy on test data = 0.98\n"
     ]
    }
   ],
   "source": [
    "# print(list(zip(*classes_w_labels)))\n",
    "def accuracy_func(xs_and_y):\n",
    "    x = xs_and_y[0]\n",
    "    y = xs_and_y[1]\n",
    "    # class 0 below hypo line -> correct\n",
    "    if (x[1] < hypo_func(x[0]) and y == 0):\n",
    "        return True\n",
    "    # class 1 above hypo line -> correct\n",
    "    if (x[1] > hypo_func(x[0]) and y == 1):\n",
    "        return True\n",
    "\n",
    "accuracy = len(list(filter(accuracy_func, zip(*classes_w_labels_test)))) / len(classes_w_labels_test[0])\n",
    "print(f\"accuracy on test data = {accuracy}\")"
   ]
  }
 ],
 "metadata": {
  "kernelspec": {
   "display_name": "Python 3 (ipykernel)",
   "language": "python",
   "name": "python3"
  },
  "language_info": {
   "codemirror_mode": {
    "name": "ipython",
    "version": 3
   },
   "file_extension": ".py",
   "mimetype": "text/x-python",
   "name": "python",
   "nbconvert_exporter": "python",
   "pygments_lexer": "ipython3",
   "version": "3.9.7"
  }
 },
 "nbformat": 4,
 "nbformat_minor": 5
}
